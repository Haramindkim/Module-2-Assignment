{
 "cells": [
  {
   "cell_type": "code",
   "execution_count": 1,
   "metadata": {},
   "outputs": [
    {
     "name": "stderr",
     "output_type": "stream",
     "text": [
      "C:\\Users\\USER\\AppData\\Local\\Temp\\ipykernel_5040\\1996243420.py:4: DtypeWarning: Columns (2,3,4,5) have mixed types. Specify dtype option on import or set low_memory=False.\n",
      "  salary_data = pd.read_csv('Total.csv')\n"
     ]
    }
   ],
   "source": [
    "# Read the data\n",
    "import pandas as pd\n",
    "\n",
    "salary_data = pd.read_csv('Total.csv')"
   ]
  },
  {
   "cell_type": "code",
   "execution_count": 2,
   "metadata": {},
   "outputs": [],
   "source": [
    "def get_employee_details(name):\n",
    "    try:\n",
    "        # Searching for the employee by name\n",
    "        employee_details = salary_data[salary_data['EmployeeName'].str.contains(name, case=False)]\n",
    "        if employee_details.empty:\n",
    "            return \"Employee not found\"\n",
    "        else:\n",
    "            return employee_details\n",
    "    except Exception as e:\n",
    "        return f\"An error occurred: {e}\""
   ]
  },
  {
   "cell_type": "code",
   "execution_count": 3,
   "metadata": {},
   "outputs": [],
   "source": [
    "def process_salary_data(data):\n",
    "    try:\n",
    "        salary_dict = data.to_dict(orient='records')\n",
    "        return salary_dict\n",
    "    except Exception as e:\n",
    "        print(f\"An error occurred while processing the data: {e}\")\n",
    "        return None\n",
    "\n",
    "salary_dict = process_salary_data(salary_data)\n"
   ]
  },
  {
   "cell_type": "code",
   "execution_count": 4,
   "metadata": {},
   "outputs": [
    {
     "name": "stdout",
     "output_type": "stream",
     "text": [
      "Details of GARY JIMENEZ have been saved in Employee Profile.zip.\n"
     ]
    }
   ],
   "source": [
    "import os\n",
    "import zipfile\n",
    "\n",
    "def export_employee_details(name):\n",
    "    try:\n",
    "        employee_details = get_employee_details(name)\n",
    "        \n",
    "        if isinstance(employee_details, str):  # If the function returned an error message\n",
    "            print(employee_details)\n",
    "            return\n",
    "        \n",
    "        # Export to CSV\n",
    "        csv_filename = f\"{name}_details.csv\"\n",
    "        employee_details.to_csv(csv_filename, index=False)\n",
    "        \n",
    "        # Create a zip file\n",
    "        zip_filename = \"Employee Profile.zip\"\n",
    "        with zipfile.ZipFile(zip_filename, 'w') as zipf:\n",
    "            zipf.write(csv_filename)\n",
    "        \n",
    "        # Clean up the CSV file after zipping\n",
    "        os.remove(csv_filename)\n",
    "        \n",
    "        print(f\"Details of {name} have been saved in {zip_filename}.\")\n",
    "    \n",
    "    except Exception as e:\n",
    "        print(f\"An error occurred while exporting the details: {e}\")\n",
    "\n",
    "# Example usage\n",
    "export_employee_details('GARY JIMENEZ')"
   ]
  }
 ],
 "metadata": {
  "kernelspec": {
   "display_name": "Python 3",
   "language": "python",
   "name": "python3"
  },
  "language_info": {
   "codemirror_mode": {
    "name": "ipython",
    "version": 3
   },
   "file_extension": ".py",
   "mimetype": "text/x-python",
   "name": "python",
   "nbconvert_exporter": "python",
   "pygments_lexer": "ipython3",
   "version": "3.11.2"
  }
 },
 "nbformat": 4,
 "nbformat_minor": 2
}
